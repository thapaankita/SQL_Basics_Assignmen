{
  "nbformat": 4,
  "nbformat_minor": 0,
  "metadata": {
    "colab": {
      "provenance": []
    },
    "kernelspec": {
      "name": "python3",
      "display_name": "Python 3"
    },
    "language_info": {
      "name": "python"
    }
  },
  "cells": [
    {
      "cell_type": "markdown",
      "source": [
        "# SQL Basics Assignment Questions | Maven Movies Database Queries\n"
      ],
      "metadata": {
        "id": "1fClYIPNSZkT"
      }
    },
    {
      "cell_type": "markdown",
      "source": [
        "### Q1: Create a table called employees with the following structure\n",
        "- `emp_id` (integer, should not be NULL and should be a primary key)  \n",
        "- `emp_name` (text, should not be NULL)  \n",
        "- `age` (integer, should have a check constraint to ensure the age is at least 18)  \n",
        "- `email` (text, should be unique for each employee)  \n",
        "- `salary` (decimal, with a default value of 30,000)  \n",
        "\n",
        "Write the SQL query to create the above table with all constraints.\n",
        "\n",
        "**Answer:** (see code cell below)"
      ],
      "metadata": {
        "id": "gYSnc605SbRS"
      }
    },
    {
      "cell_type": "code",
      "source": [
        "import sqlite3\n",
        "\n",
        "# Connect to an in-memory SQLite database (or create a file-based DB)\n",
        "conn = sqlite3.connect('assignment.db')\n",
        "cursor = conn.cursor()\n",
        "\n",
        "# Execute the SQL to create the table\n",
        "cursor.execute(\"\"\"\n",
        "CREATE TABLE IF NOT EXISTS employees (\n",
        "    emp_id INTEGER NOT NULL PRIMARY KEY,\n",
        "    emp_name TEXT NOT NULL,\n",
        "    age INTEGER CHECK(age >= 18),\n",
        "    email TEXT UNIQUE,\n",
        "    salary REAL DEFAULT 30000\n",
        ")\n",
        "\"\"\")\n",
        "\n",
        "# Commit the changes\n",
        "conn.commit()\n",
        "\n",
        "# Verify the table was created\n",
        "cursor.execute(\"SELECT name FROM sqlite_master WHERE type='table';\")\n",
        "tables = cursor.fetchall()\n",
        "print(\"Tables in database:\", tables)"
      ],
      "metadata": {
        "colab": {
          "base_uri": "https://localhost:8080/"
        },
        "id": "OAjq8y13TCP2",
        "outputId": "61498535-4223-48a6-e47e-85a41369aff9"
      },
      "execution_count": null,
      "outputs": [
        {
          "output_type": "stream",
          "name": "stdout",
          "text": [
            "Tables in database: [('employees',)]\n"
          ]
        }
      ]
    },
    {
      "cell_type": "markdown",
      "source": [
        "### Q2. Explain the purpose of constraints and how they help maintain data integrity in a database. Provide examples of common types of constraints.\n",
        "\n",
        "**Answer:**  \n",
        "Constraints are rules applied to columns in a database table to enforce data integrity and ensure the accuracy, consistency, and validity of data. They prevent invalid or inconsistent data from being entered into the database.\n",
        "\n",
        "**Common types of constraints:**\n",
        "\n",
        "1. **PRIMARY KEY** – Ensures each row in a table is unique and not NULL.  \n",
        "   *Example:* `emp_id INT PRIMARY KEY`  \n",
        "\n",
        "2. **FOREIGN KEY** – Ensures that a value in one table matches a value in another table, maintaining referential integrity.  \n",
        "   *Example:* `department_id INT, FOREIGN KEY (department_id) REFERENCES departments(dept_id)`  \n",
        "\n",
        "3. **UNIQUE** – Ensures all values in a column are distinct.  \n",
        "   *Example:* `email TEXT UNIQUE`  \n",
        "\n",
        "4. **NOT NULL** – Ensures a column cannot have NULL values.  \n",
        "   *Example:* `emp_name TEXT NOT NULL`  \n",
        "\n",
        "5. **CHECK** – Ensures that values in a column satisfy a specific condition.  \n",
        "   *Example:* `age INT CHECK (age >= 18)`  \n",
        "\n",
        "6. **DEFAULT** – Provides a default value if none is specified.  \n",
        "   *Example:* `salary DECIMAL(10,2) DEFAULT 30000`  \n",
        "\n",
        "**Purpose:**  \n",
        "- Prevents invalid or inconsistent data entries.  \n",
        "- Maintains accuracy, reliability, and integrity of the database.  \n",
        "- Helps enforce business rules at the database level rather than application code.\n",
        "\n",
        "### Q3. Why would you apply the NOT NULL constraint to a column? Can a primary key contain NULL values? Justify your answer.\n",
        "\n",
        "**Answer:**  \n",
        "- **Purpose of NOT NULL constraint:**  \n",
        "  The NOT NULL constraint ensures that a column cannot have NULL (empty) values. It is used to enforce that certain data must always be present in a table, which is important for critical fields like `emp_id`, `emp_name`, or `email`. This helps maintain data integrity by preventing missing or incomplete information.\n",
        "\n",
        "- **Primary Key and NULL values:**  \n",
        "  A primary key **cannot contain NULL values**.  \n",
        "  **Justification:**  \n",
        "  - The primary key uniquely identifies each row in a table.  \n",
        "  - If a primary key allowed NULL, it would violate uniqueness because NULL is considered \"unknown\" and cannot reliably identify a row.  \n",
        "  - Therefore, all primary key columns are implicitly NOT NULL and unique.\n",
        "\n",
        "### Q4. Explain the steps and SQL commands used to add or remove constraints on an existing table. Provide an example for both adding and removing a constraint.\n",
        "\n",
        "**Answer:**  \n",
        "Constraints can be added to or removed from an existing table using the `ALTER TABLE` command.  \n",
        "\n",
        "**Steps to add a constraint:**\n",
        "1. Use `ALTER TABLE table_name ADD CONSTRAINT constraint_name constraint_type(column_name)`.\n",
        "2. This will enforce the new rule on the specified column.\n",
        "\n",
        "**Steps to remove a constraint:**\n",
        "1. Use `ALTER TABLE table_name DROP CONSTRAINT constraint_name`.\n",
        "2. This will remove the specified rule from the column.\n",
        "\n",
        "**Examples:**\n",
        "\n",
        "- **Add a constraint:** Ensure `age` is at least 18 in the `employees` table.  \n",
        "- **Remove a constraint:** Remove the age check constraint if it is no longer needed.\n",
        "\n"
      ],
      "metadata": {
        "id": "HHMmOgE1X4m-"
      }
    },
    {
      "cell_type": "code",
      "source": [
        "import sqlite3\n",
        "\n",
        "# Connect to SQLite (or create database in memory)\n",
        "conn = sqlite3.connect(':memory:')\n",
        "cur = conn.cursor()\n",
        "\n",
        "# Create employees table\n",
        "cur.execute('''\n",
        "CREATE TABLE employees (\n",
        "    emp_id INTEGER PRIMARY KEY,\n",
        "    emp_name TEXT NOT NULL,\n",
        "    age INTEGER,\n",
        "    email TEXT UNIQUE,\n",
        "    salary REAL DEFAULT 30000\n",
        ")\n",
        "''')\n",
        "\n",
        "# Add a CHECK constraint in SQLite requires creating a new table, example:\n",
        "# SQLite does not support ALTER TABLE ADD CHECK directly, so normally done at table creation\n",
        "# This is a known SQLite limitation\n",
        "\n",
        "conn.commit()\n",
        "conn.close()\n"
      ],
      "metadata": {
        "id": "gJ-WmyGBYnAC"
      },
      "execution_count": null,
      "outputs": []
    },
    {
      "cell_type": "markdown",
      "source": [
        "### Q5. Explain the consequences of attempting to insert, update, or delete data in a way that violates constraints. Provide an example of an error message that might occur when violating a constraint.\n",
        "\n",
        "**Answer:**  \n",
        "Constraints in a database enforce rules to maintain data integrity. If an operation violates a constraint, the database **will reject the operation** and raise an error. This prevents invalid or inconsistent data from being stored.\n",
        "\n",
        "**Consequences of violating constraints:**\n",
        "1. **INSERT violation:** Attempting to insert a row that breaks a constraint (e.g., duplicate primary key, NULL in a NOT NULL column) will fail.  \n",
        "2. **UPDATE violation:** Modifying a row in a way that violates a constraint (e.g., changing an email to a value that already exists in a UNIQUE column) will fail.  \n",
        "3. **DELETE violation:** Deleting a row referenced by a foreign key in another table will fail if `ON DELETE RESTRICT` is set.\n",
        "\n",
        "**Example of an error message:**\n",
        "- Inserting a duplicate primary key:  \n",
        "\n",
        "### Q6. You created a `products` table without constraints as follows:\n",
        "\n",
        "```sql\n",
        "CREATE TABLE products (\n",
        "    product_id INT,\n",
        "    product_name VARCHAR(50),\n",
        "    price DECIMAL(10, 2)\n",
        ");\n",
        "\n",
        "Now, you realize that:  \n",
        "- The `product_id` should be a primary key  \n",
        "- The `price` should have a default value of 50.00  \n",
        "\n",
        "**Answer:** (see code cell below)"
      ],
      "metadata": {
        "id": "RHMTFWgbYoLW"
      }
    },
    {
      "cell_type": "code",
      "source": [
        "import sqlite3\n",
        "\n",
        "# Connect to SQLite in memory (or a file)\n",
        "conn = sqlite3.connect(':memory:')\n",
        "cur = conn.cursor()\n",
        "\n",
        "# Create the products table without constraints\n",
        "cur.execute('''\n",
        "CREATE TABLE products (\n",
        "    product_id INT,\n",
        "    product_name VARCHAR(50),\n",
        "    price DECIMAL(10, 2)\n",
        ")\n",
        "''')\n",
        "\n",
        "# SQLite does not support ALTER COLUMN to add DEFAULT or CHECK easily\n",
        "# To add constraints in SQLite, you generally recreate the table with constraints\n",
        "cur.execute('''\n",
        "CREATE TABLE products_new (\n",
        "    product_id INT PRIMARY KEY,\n",
        "    product_name VARCHAR(50),\n",
        "    price DECIMAL(10,2) DEFAULT 50.00\n",
        ")\n",
        "''')\n",
        "\n",
        "# Copy data from old table if needed\n",
        "cur.execute('INSERT INTO products_new (product_id, product_name, price) SELECT * FROM products')\n",
        "\n",
        "# Drop old table and rename new table\n",
        "cur.execute('DROP TABLE products')\n",
        "cur.execute('ALTER TABLE products_new RENAME TO products')\n",
        "\n",
        "conn.commit()\n",
        "conn.close()\n"
      ],
      "metadata": {
        "id": "295oRyviZqwZ"
      },
      "execution_count": null,
      "outputs": []
    },
    {
      "cell_type": "markdown",
      "source": [
        "### Q7. You have two tables: Students and Classes.\n",
        "Write a query to fetch the student_name and class_name for each student using an INNER JOIN.\n",
        "\n",
        "**Answer:**  \n",
        "We use INNER JOIN to combine the Students and Classes tables based on class_id.\n"
      ],
      "metadata": {
        "id": "iN08qieqaf7x"
      }
    },
    {
      "cell_type": "code",
      "source": [
        "import sqlite3\n",
        "\n",
        "# Connect to SQLite\n",
        "conn = sqlite3.connect(':memory:')\n",
        "cur = conn.cursor()\n",
        "\n",
        "# Create tables\n",
        "cur.execute('''\n",
        "CREATE TABLE Students (\n",
        "    student_id INT,\n",
        "    student_name TEXT,\n",
        "    class_id INT\n",
        ")\n",
        "''')\n",
        "\n",
        "cur.execute('''\n",
        "CREATE TABLE Classes (\n",
        "    class_id INT,\n",
        "    class_name TEXT\n",
        ")\n",
        "''')\n",
        "\n",
        "# Insert data\n",
        "cur.executemany('INSERT INTO Students VALUES (?, ?, ?)', [(1, 'Alice', 101),\n",
        "                                                         (2, 'Bob', 102),\n",
        "                                                         (3, 'Charlie', 101)])\n",
        "\n",
        "cur.executemany('INSERT INTO Classes VALUES (?, ?)', [(101, 'Math'),\n",
        "                                                      (102, 'Science'),\n",
        "                                                      (103, 'History')])\n",
        "\n",
        "# Run INNER JOIN query\n",
        "cur.execute('''\n",
        "SELECT s.student_name, c.class_name\n",
        "FROM Students s\n",
        "INNER JOIN Classes c\n",
        "ON s.class_id = c.class_id\n",
        "''')\n",
        "\n",
        "# Fetch and display results\n",
        "for row in cur.fetchall():\n",
        "    print(row)\n",
        "\n",
        "conn.close()\n"
      ],
      "metadata": {
        "colab": {
          "base_uri": "https://localhost:8080/"
        },
        "id": "16Hd8pY8aiMu",
        "outputId": "56b9339d-2dde-4bf6-ea7f-ca0ca1085c6e"
      },
      "execution_count": null,
      "outputs": [
        {
          "output_type": "stream",
          "name": "stdout",
          "text": [
            "('Alice', 'Math')\n",
            "('Bob', 'Science')\n",
            "('Charlie', 'Math')\n"
          ]
        }
      ]
    },
    {
      "cell_type": "markdown",
      "source": [
        "### Q8. Write a query that shows all order_id, customer_name, and product_name, ensuring that all products are listed even if they are not associated with an order.\n",
        "(Hint: use INNER JOIN and LEFT JOIN)\n"
      ],
      "metadata": {
        "id": "zfxZcLL5aol_"
      }
    },
    {
      "cell_type": "code",
      "source": [
        "import sqlite3\n",
        "\n",
        "# Connect to SQLite\n",
        "conn = sqlite3.connect(':memory:')\n",
        "cur = conn.cursor()\n",
        "\n",
        "# Create tables\n",
        "cur.execute('CREATE TABLE Orders (order_id INT, order_date TEXT, customer_id INT)')\n",
        "cur.execute('CREATE TABLE Customers (customer_id INT, customer_name TEXT)')\n",
        "cur.execute('CREATE TABLE Products (product_id INT, product_name TEXT)')\n",
        "cur.execute('CREATE TABLE Order_Products (order_id INT, product_id INT)')  # Linking table\n",
        "\n",
        "# Insert data\n",
        "cur.executemany('INSERT INTO Orders VALUES (?, ?, ?)', [(1, '2024-01-01', 101),\n",
        "                                                        (2, '2024-01-03', 102)])\n",
        "\n",
        "cur.executemany('INSERT INTO Customers VALUES (?, ?)', [(101, 'Alice'),\n",
        "                                                        (102, 'Bob')])\n",
        "\n",
        "cur.executemany('INSERT INTO Products VALUES (?, ?)', [(1, 'Laptop'),\n",
        "                                                       (2, 'Phone')])\n",
        "\n",
        "cur.executemany('INSERT INTO Order_Products VALUES (?, ?)', [(1, 1)])  # Only one product linked\n",
        "\n",
        "# Query using LEFT JOIN to include all products\n",
        "cur.execute('''\n",
        "SELECT o.order_id, c.customer_name, p.product_name\n",
        "FROM Products p\n",
        "LEFT JOIN Order_Products op ON p.product_id = op.product_id\n",
        "LEFT JOIN Orders o ON op.order_id = o.order_id\n",
        "LEFT JOIN Customers c ON o.customer_id = c.customer_id\n",
        "''')\n",
        "\n",
        "# Fetch and display results\n",
        "for row in cur.fetchall():\n",
        "    print(row)\n",
        "\n",
        "conn.close()\n"
      ],
      "metadata": {
        "colab": {
          "base_uri": "https://localhost:8080/"
        },
        "id": "m3B84oIjbU9d",
        "outputId": "a38f0aa1-da49-4652-d76d-2da6567b5cfa"
      },
      "execution_count": null,
      "outputs": [
        {
          "output_type": "stream",
          "name": "stdout",
          "text": [
            "(1, 'Alice', 'Laptop')\n",
            "(None, None, 'Phone')\n"
          ]
        }
      ]
    },
    {
      "cell_type": "markdown",
      "source": [
        "### Q9. Write a query to find the total sales amount for each product using an INNER JOIN and the SUM() function.\n"
      ],
      "metadata": {
        "id": "pybjlCDWb4RZ"
      }
    },
    {
      "cell_type": "code",
      "source": [
        "import sqlite3\n",
        "\n",
        "# Connect to SQLite\n",
        "conn = sqlite3.connect(':memory:')\n",
        "cur = conn.cursor()\n",
        "\n",
        "# Create tables\n",
        "cur.execute('CREATE TABLE Sales (sale_id INT, product_id INT, amount INT)')\n",
        "cur.execute('CREATE TABLE Products (product_id INT, product_name TEXT)')\n",
        "\n",
        "# Insert data\n",
        "cur.executemany('INSERT INTO Sales VALUES (?, ?, ?)', [\n",
        "    (1, 101, 500),\n",
        "    (2, 102, 300),\n",
        "    (3, 101, 700)\n",
        "])\n",
        "\n",
        "cur.executemany('INSERT INTO Products VALUES (?, ?)', [\n",
        "    (101, 'Laptop'),\n",
        "    (102, 'Phone')\n",
        "])\n",
        "\n",
        "# Query: total sales per product\n",
        "cur.execute('''\n",
        "SELECT p.product_name, SUM(s.amount) AS total_sales\n",
        "FROM Sales s\n",
        "INNER JOIN Products p ON s.product_id = p.product_id\n",
        "GROUP BY p.product_name\n",
        "''')\n",
        "\n",
        "# Fetch and display results\n",
        "for row in cur.fetchall():\n",
        "    print(row)\n",
        "\n",
        "conn.close()\n"
      ],
      "metadata": {
        "colab": {
          "base_uri": "https://localhost:8080/"
        },
        "id": "leaLSt2Fb5Fr",
        "outputId": "8a49d58b-421f-41c2-d475-1f28a8415caf"
      },
      "execution_count": null,
      "outputs": [
        {
          "output_type": "stream",
          "name": "stdout",
          "text": [
            "('Laptop', 1200)\n",
            "('Phone', 300)\n"
          ]
        }
      ]
    },
    {
      "cell_type": "markdown",
      "source": [
        "### Q10. Using the Orders, Customers, and Order_Details tables, write a query to display the order_id, customer_name, and the total quantity of products ordered by each customer using an INNER JOIN between all three tables.\n"
      ],
      "metadata": {
        "id": "o34p4fB8b8gh"
      }
    },
    {
      "cell_type": "code",
      "source": [
        "import sqlite3\n",
        "\n",
        "# Connect to SQLite\n",
        "conn = sqlite3.connect(':memory:')\n",
        "cur = conn.cursor()\n",
        "\n",
        "# Create tables\n",
        "cur.execute('CREATE TABLE Orders (order_id INT, order_date TEXT, customer_id INT)')\n",
        "cur.execute('CREATE TABLE Customers (customer_id INT, customer_name TEXT)')\n",
        "cur.execute('CREATE TABLE Order_Details (order_id INT, product_id INT, quantity INT)')\n",
        "\n",
        "# Insert data\n",
        "cur.executemany('INSERT INTO Orders VALUES (?, ?, ?)', [\n",
        "    (1, '2024-01-02', 1),\n",
        "    (2, '2024-01-05', 2)\n",
        "])\n",
        "\n",
        "cur.executemany('INSERT INTO Customers VALUES (?, ?)', [\n",
        "    (1, 'Alice'),\n",
        "    (2, 'Bob')\n",
        "])\n",
        "\n",
        "cur.executemany('INSERT INTO Order_Details VALUES (?, ?, ?)', [\n",
        "    (1, 101, 2),\n",
        "    (1, 102, 1),\n",
        "    (2, 101, 3)\n",
        "])\n",
        "\n",
        "# Query: order_id, customer_name, total quantity\n",
        "cur.execute('''\n",
        "SELECT o.order_id, c.customer_name, SUM(od.quantity) AS total_quantity\n",
        "FROM Orders o\n",
        "INNER JOIN Customers c ON o.customer_id = c.customer_id\n",
        "INNER JOIN Order_Details od ON o.order_id = od.order_id\n",
        "GROUP BY o.order_id, c.customer_name\n",
        "''')\n",
        "\n",
        "# Fetch and display results\n",
        "for row in cur.fetchall():\n",
        "    print(row)\n",
        "\n",
        "conn.close()\n"
      ],
      "metadata": {
        "colab": {
          "base_uri": "https://localhost:8080/"
        },
        "id": "anp5gRQdcdxw",
        "outputId": "b317dfbd-0376-41c5-bcfc-cf3b617c52f2"
      },
      "execution_count": null,
      "outputs": [
        {
          "output_type": "stream",
          "name": "stdout",
          "text": [
            "(1, 'Alice', 3)\n",
            "(2, 'Bob', 3)\n"
          ]
        }
      ]
    },
    {
      "cell_type": "markdown",
      "source": [
        "## **SQL Commands**"
      ],
      "metadata": {
        "id": "678H3-WEkeLD"
      }
    },
    {
      "cell_type": "markdown",
      "source": [
        "### Q1. Identify the primary keys and foreign keys in Maven Movies DB. Discuss the differences\n",
        "\n",
        "**Primary Key (PK):**  \n",
        "- A primary key is a column (or combination of columns) that uniquely identifies each row in a table.  \n",
        "- It **cannot contain NULL values** and must be unique.  \n",
        "- Examples:  \n",
        "  - `actor_id` in the `actors` table  \n",
        "  - `customer_id` in the `customers` table  \n",
        "  - `film_id` in the `films` table  \n",
        "\n",
        "**Foreign Key (FK):**  \n",
        "- A foreign key is a column (or combination of columns) that **creates a relationship between two tables**.  \n",
        "- It references the primary key of another table to enforce referential integrity.  \n",
        "- Examples:  \n",
        "  - `customer_id` in the `rentals` table references `customer_id` in `customers`  \n",
        "  - `film_id` in the `inventory` table references `film_id` in `films`  \n",
        "  - `actor_id` in the `film_actor` table references `actor_id` in `actors`  \n",
        "\n",
        "**Differences:**\n",
        "\n",
        "| Feature              | Primary Key                       | Foreign Key                                 |\n",
        "|----------------------|----------------------------------|--------------------------------------------|\n",
        "| Purpose              | Uniquely identifies a row        | Establishes a relationship between tables  |\n",
        "| Uniqueness           | Must be unique                   | Can have duplicates in the child table     |\n",
        "| NULL Values           | Not allowed                      | Can be NULL (optional)                      |\n",
        "| Table Dependency      | Defined within the table itself  | References another table                    |\n",
        "| Integrity Enforcement | Ensures entity integrity          | Ensures referential integrity               |\n",
        "\n",
        "**Summary:**  \n",
        "- Primary keys identify rows uniquely in a table.  \n",
        "- Foreign keys link tables and maintain consistency between them.\n",
        "\n",
        "### Q2. List all details of actors\n",
        "\n",
        "**Answer (SQL Query):**\n",
        "```sql\n",
        "SELECT *\n",
        "FROM actors;\n"
      ],
      "metadata": {
        "id": "GHfuSjVXdJ0M"
      }
    },
    {
      "cell_type": "markdown",
      "source": [
        "### Q3. List all customer information from the database\n",
        "\n",
        "**Answer (SQL Query):**\n",
        "```sql\n",
        "SELECT *\n",
        "FROM customers;\n"
      ],
      "metadata": {
        "id": "LGEqWs3whFC1"
      }
    },
    {
      "cell_type": "markdown",
      "source": [
        "### Q4. List different countries\n",
        "\n",
        "**Answer (SQL Query):**\n",
        "```sql\n",
        "SELECT DISTINCT country_name\n",
        "FROM countries;\n"
      ],
      "metadata": {
        "id": "rYnh42sxhGbM"
      }
    },
    {
      "cell_type": "markdown",
      "source": [
        "### Q5. Display all active customers\n",
        "\n",
        "**Answer (SQL Query):**\n",
        "```sql\n",
        "SELECT *\n",
        "FROM customers\n",
        "WHERE active = 1;\n"
      ],
      "metadata": {
        "id": "lpYjN_tChPu0"
      }
    },
    {
      "cell_type": "markdown",
      "source": [
        "### Q6. List of all rental IDs for customer with ID 1\n",
        "\n",
        "**Answer (SQL Query):**\n",
        "```sql\n",
        "SELECT rental_id\n",
        "FROM rentals\n",
        "WHERE customer_id = 1;\n"
      ],
      "metadata": {
        "id": "-zbmZcr2hYMD"
      }
    },
    {
      "cell_type": "markdown",
      "source": [
        "### Q7. Display all the films whose rental duration is greater than 5\n",
        "\n",
        "**Answer (SQL Query):**\n",
        "```sql\n",
        "SELECT *\n",
        "FROM films\n",
        "WHERE rental_duration > 5;\n"
      ],
      "metadata": {
        "id": "X1jE5qJ1hugr"
      }
    },
    {
      "cell_type": "markdown",
      "source": [
        "### Q8. List the total number of films whose replacement cost is greater than $15 and less than $20\n",
        "\n",
        "**Answer (SQL Query):**\n",
        "```sql\n",
        "SELECT COUNT(*) AS total_films\n",
        "FROM films\n",
        "WHERE replacement_cost > 15 AND replacement_cost < 20;\n"
      ],
      "metadata": {
        "id": "3rb9MId_h1wB"
      }
    },
    {
      "cell_type": "markdown",
      "source": [
        "### Q9. Display the count of unique first names of actors\n",
        "\n",
        "**Answer (SQL Query):**\n",
        "```sql\n",
        "SELECT COUNT(DISTINCT first_name) AS unique_first_names\n",
        "FROM actors;\n"
      ],
      "metadata": {
        "id": "GMWlDh-ah8oc"
      }
    },
    {
      "cell_type": "markdown",
      "source": [
        "### Q10. Display the first 10 records from the customer table\n",
        "\n",
        "**Answer (SQL Query):**\n",
        "```sql\n",
        "SELECT *\n",
        "FROM customer\n",
        "LIMIT 10;\n"
      ],
      "metadata": {
        "id": "QuIELDVqiDPe"
      }
    },
    {
      "cell_type": "markdown",
      "source": [
        "### Q11. Display the first 3 records from the customer table whose first name starts with 'b'\n",
        "\n",
        "**Answer (SQL Query):**\n",
        "```sql\n",
        "SELECT *\n",
        "FROM customer\n",
        "WHERE first_name LIKE 'b%'\n",
        "LIMIT 3;\n"
      ],
      "metadata": {
        "id": "qVXBjuNjihFx"
      }
    },
    {
      "cell_type": "markdown",
      "source": [
        "### Q12. Display the names of the first 5 movies which are rated as 'G'\n",
        "\n",
        "**Answer (SQL Query):**\n",
        "```sql\n",
        "SELECT film_title\n",
        "FROM films\n",
        "WHERE rating = 'G'\n",
        "LIMIT 5;\n"
      ],
      "metadata": {
        "id": "YuCQtM-_i1g6"
      }
    },
    {
      "cell_type": "markdown",
      "source": [
        "### Q13. Find all customers whose first name starts with \"a\"\n",
        "\n",
        "**Answer (SQL Query):**\n",
        "```sql\n",
        "SELECT *\n",
        "FROM customer\n",
        "WHERE first_name LIKE 'a%';\n"
      ],
      "metadata": {
        "id": "5X5wBjtTi4Dh"
      }
    },
    {
      "cell_type": "markdown",
      "source": [
        "### Q14. Find all customers whose first name ends with \"a\"\n",
        "\n",
        "**Answer (SQL Query):**\n",
        "```sql\n",
        "SELECT *\n",
        "FROM customer\n",
        "WHERE first_name LIKE '%a';\n"
      ],
      "metadata": {
        "id": "p1QtqcomjAmX"
      }
    },
    {
      "cell_type": "markdown",
      "source": [
        "### Q15. Display the list of first 4 cities which start and end with 'a'\n",
        "\n",
        "**Answer (SQL Query):**\n",
        "```sql\n",
        "SELECT city_name\n",
        "FROM city\n",
        "WHERE city_name LIKE 'a%a'\n",
        "LIMIT 4;\n"
      ],
      "metadata": {
        "id": "MLN2pQ7SjF7c"
      }
    },
    {
      "cell_type": "markdown",
      "source": [
        "### Q16. Find all customers whose first name have \"NI\" in any position\n",
        "\n",
        "**Answer (SQL Query):**\n",
        "```sql\n",
        "SELECT *\n",
        "FROM customer\n",
        "WHERE first_name LIKE '%NI%';\n"
      ],
      "metadata": {
        "id": "IMzZMMQ_jMA5"
      }
    },
    {
      "cell_type": "markdown",
      "source": [
        "### Q17. Find all customers whose first name have \"r\" in the second position\n",
        "\n",
        "**Answer (SQL Query):**\n",
        "```sql\n",
        "SELECT *\n",
        "FROM customer\n",
        "WHERE first_name LIKE '_r%';\n"
      ],
      "metadata": {
        "id": "0OPLV-QqjTiM"
      }
    },
    {
      "cell_type": "markdown",
      "source": [
        "### Q18. Find all customers whose first name starts with \"a\" and are at least 5 characters in length\n",
        "\n",
        "**Answer (SQL Query):**\n",
        "```sql\n",
        "SELECT *\n",
        "FROM customer\n",
        "WHERE first_name LIKE 'a%'\n",
        "  AND LENGTH(first_name) >= 5;\n"
      ],
      "metadata": {
        "id": "7YDWfSCqjZ7g"
      }
    },
    {
      "cell_type": "markdown",
      "source": [
        "### Q19. Find all customers whose first name starts with \"a\" and ends with \"o\"\n",
        "\n",
        "**Answer (SQL Query):**\n",
        "```sql\n",
        "SELECT *\n",
        "FROM customer\n",
        "WHERE first_name LIKE 'a%o';\n"
      ],
      "metadata": {
        "id": "MySDsQFijvgH"
      }
    },
    {
      "cell_type": "markdown",
      "source": [
        "### Q20. Get the films with PG and PG-13 rating using IN operator\n",
        "\n",
        "**Answer (SQL Query):**\n",
        "```sql\n",
        "SELECT *\n",
        "FROM films\n",
        "WHERE rating IN ('PG', 'PG-13');\n"
      ],
      "metadata": {
        "id": "BVRWTib_jwZd"
      }
    },
    {
      "cell_type": "markdown",
      "source": [
        "### Q21. Get the films with length between 50 to 100 using BETWEEN operator\n",
        "\n",
        "**Answer (SQL Query):**\n",
        "```sql\n",
        "SELECT *\n",
        "FROM films\n",
        "WHERE length BETWEEN 50 AND 100;\n"
      ],
      "metadata": {
        "id": "ilcHlcv6jzIN"
      }
    },
    {
      "cell_type": "markdown",
      "source": [
        "### Q22. Get the top 50 actors using LIMIT operator\n",
        "\n",
        "**Answer (SQL Query):**\n",
        "```sql\n",
        "SELECT *\n",
        "FROM actors\n",
        "LIMIT 50;\n"
      ],
      "metadata": {
        "id": "FGKU5hUPj831"
      }
    },
    {
      "cell_type": "markdown",
      "source": [
        "### Q23. Get the distinct film IDs from inventory table\n",
        "\n",
        "**Answer (SQL Query):**\n",
        "```sql\n",
        "SELECT DISTINCT film_id\n",
        "FROM inventory;\n"
      ],
      "metadata": {
        "id": "zIZEB3vOkC5E"
      }
    },
    {
      "cell_type": "markdown",
      "source": [
        "## **Functions Basic Aggregate Functions:**"
      ],
      "metadata": {
        "id": "DIHljj-Qk4GR"
      }
    },
    {
      "cell_type": "markdown",
      "source": [
        "### Q1. Retrieve the total number of rentals made in the Sakila database\n",
        "\n",
        "**Answer (SQL Query):**\n",
        "```sql\n",
        "SELECT COUNT(*) AS total_rentals\n",
        "FROM rental;\n"
      ],
      "metadata": {
        "id": "541fdcRllDbA"
      }
    },
    {
      "cell_type": "markdown",
      "source": [
        "### Q2. Find the average rental duration (in days) of movies rented from the Sakila database\n",
        "\n",
        "**Answer (SQL Query):**\n",
        "```sql\n",
        "SELECT AVG(rental_duration) AS avg_rental_duration\n",
        "FROM film;\n"
      ],
      "metadata": {
        "id": "fbBqkV_RlMO2"
      }
    },
    {
      "cell_type": "markdown",
      "source": [
        "### Q3. Display the first name and last name of customers in uppercase\n",
        "\n",
        "**Answer (SQL Query):**\n",
        "```sql\n",
        "SELECT UPPER(first_name) AS first_name_upper,\n",
        "       UPPER(last_name) AS last_name_upper\n",
        "FROM customer;\n"
      ],
      "metadata": {
        "id": "SBM7qQy8lecR"
      }
    },
    {
      "cell_type": "markdown",
      "source": [
        "### Q4. Extract the month from the rental date and display it alongside the rental ID\n",
        "\n",
        "**Answer (SQL Query):**\n",
        "```sql\n",
        "SELECT rental_id,\n",
        "       MONTH(rental_date) AS rental_month\n",
        "FROM rental;\n"
      ],
      "metadata": {
        "id": "-FO1RFJHlgJt"
      }
    },
    {
      "cell_type": "markdown",
      "source": [
        "### Q5. Retrieve the count of rentals for each customer (display customer ID and the count of rentals)\n",
        "\n",
        "**Answer (SQL Query):**\n",
        "```sql\n",
        "SELECT customer_id,\n",
        "       COUNT(*) AS rental_count\n",
        "FROM rental\n",
        "GROUP BY customer_id;\n"
      ],
      "metadata": {
        "id": "C1kxRqf2lIgO"
      }
    },
    {
      "cell_type": "markdown",
      "source": [
        "### Q6. Find the total revenue generated by each store\n",
        "\n",
        "**Answer (SQL Query):**\n",
        "```sql\n",
        "SELECT store_id,\n",
        "       SUM(amount) AS total_revenue\n",
        "FROM payment\n",
        "GROUP BY store_id;\n"
      ],
      "metadata": {
        "id": "ElbET_7slv0I"
      }
    },
    {
      "cell_type": "markdown",
      "source": [
        "### Q7. Determine the total number of rentals for each category of movies\n",
        "\n",
        "**Answer (SQL Query):**\n",
        "```sql\n",
        "SELECT fc.category_id,\n",
        "       c.name AS category_name,\n",
        "       COUNT(r.rental_id) AS total_rentals\n",
        "FROM rental r\n",
        "JOIN inventory i ON r.inventory_id = i.inventory_id\n",
        "JOIN film f ON i.film_id = f.film_id\n",
        "JOIN film_category fc ON f.film_id = fc.film_id\n",
        "JOIN category c ON fc.category_id = c.category_id\n",
        "GROUP BY fc.category_id, c.name;\n"
      ],
      "metadata": {
        "id": "VG4MF43Wl9vM"
      }
    },
    {
      "cell_type": "markdown",
      "source": [
        "### Q8. Find the average rental rate of movies in each language\n",
        "\n",
        "**Answer (SQL Query):**\n",
        "```sql\n",
        "SELECT l.language_id,\n",
        "       l.name AS language_name,\n",
        "       AVG(f.rental_rate) AS avg_rental_rate\n",
        "FROM film f\n",
        "JOIN language l ON f.language_id = l.language_id\n",
        "GROUP BY l.language_id, l.name;\n"
      ],
      "metadata": {
        "id": "I3OHW4e9mAq3"
      }
    },
    {
      "cell_type": "markdown",
      "source": [
        "## **Joins**\n",
        "\n",
        "### Q9. Display the title of the movie, customer's first name, and last name who rented it\n",
        "\n",
        "**Answer (SQL Query):**\n",
        "```sql\n",
        "SELECT f.title,\n",
        "       c.first_name,\n",
        "       c.last_name\n",
        "FROM rental r\n",
        "JOIN inventory i ON r.inventory_id = i.inventory_id\n",
        "JOIN film f ON i.film_id = f.film_id\n",
        "JOIN customer c ON r.customer_id = c.customer_id;\n"
      ],
      "metadata": {
        "id": "WyyA0N9amI_6"
      }
    },
    {
      "cell_type": "markdown",
      "source": [
        "### Q10. Retrieve the names of all actors who have appeared in the film \"Gone with the Wind\"\n",
        "\n",
        "**Answer (SQL Query):**\n",
        "```sql\n",
        "SELECT a.first_name,\n",
        "       a.last_name\n",
        "FROM film_actor fa\n",
        "JOIN actor a ON fa.actor_id = a.actor_id\n",
        "JOIN film f ON fa.film_id = f.film_id\n",
        "WHERE f.title = 'Gone with the Wind';\n"
      ],
      "metadata": {
        "id": "hpQRDSnZnN_J"
      }
    },
    {
      "cell_type": "markdown",
      "source": [
        "### Q11. Retrieve the customer names along with the total amount they've spent on rentals\n",
        "\n",
        "**Answer (SQL Query):**\n",
        "```sql\n",
        "SELECT c.first_name,\n",
        "       c.last_name,\n",
        "       SUM(p.amount) AS total_spent\n",
        "FROM customer c\n",
        "JOIN payment p ON c.customer_id = p.customer_id\n",
        "JOIN rental r ON p.rental_id = r.rental_id\n",
        "GROUP BY c.customer_id, c.first_name, c.last_name;\n"
      ],
      "metadata": {
        "id": "_KYRXT7RoaZd"
      }
    },
    {
      "cell_type": "markdown",
      "source": [
        "### Q12. List the titles of movies rented by each customer in a particular city (e.g., 'London')\n",
        "\n",
        "**Answer (SQL Query):**\n",
        "```sql\n",
        "SELECT c.first_name,\n",
        "       c.last_name,\n",
        "       GROUP_CONCAT(f.title) AS rented_movies\n",
        "FROM customer c\n",
        "JOIN address a ON c.address_id = a.address_id\n",
        "JOIN city ci ON a.city_id = ci.city_id\n",
        "JOIN rental r ON c.customer_id = r.customer_id\n",
        "JOIN inventory i ON r.inventory_id = i.inventory_id\n",
        "JOIN film f ON i.film_id = f.film_id\n",
        "WHERE ci.city = 'London'\n",
        "GROUP BY c.customer_id, c.first_name, c.last_name;\n"
      ],
      "metadata": {
        "id": "7lVVt8Lcobma"
      }
    },
    {
      "cell_type": "markdown",
      "source": [
        "## **Advanced Joins and GROUP BY:**\n",
        "\n",
        "### Q13. Display the top 5 rented movies along with the number of times they've been rented\n",
        "\n",
        "**Answer (SQL Query):**\n",
        "```sql\n",
        "SELECT f.title,\n",
        "       COUNT(r.rental_id) AS rental_count\n",
        "FROM film f\n",
        "JOIN inventory i ON f.film_id = i.film_id\n",
        "JOIN rental r ON i.inventory_id = r.inventory_id\n",
        "GROUP BY f.film_id, f.title\n",
        "ORDER BY rental_count DESC\n",
        "LIMIT 5;\n"
      ],
      "metadata": {
        "id": "vrj-5RdAotxY"
      }
    },
    {
      "cell_type": "markdown",
      "source": [
        "### Q14. Determine the customers who have rented movies from both stores (store ID 1 and store ID 2)\n",
        "\n",
        "**Answer (SQL Query):**\n",
        "```sql\n",
        "SELECT c.customer_id,\n",
        "       c.first_name,\n",
        "       c.last_name\n",
        "FROM customer c\n",
        "JOIN rental r ON c.customer_id = r.customer_id\n",
        "JOIN inventory i ON r.inventory_id = i.inventory_id\n",
        "WHERE i.store_id IN (1, 2)\n",
        "GROUP BY c.customer_id, c.first_name, c.last_name\n",
        "HAVING COUNT(DISTINCT i.store_id) = 2;\n"
      ],
      "metadata": {
        "id": "yMsyPET0o6Nc"
      }
    },
    {
      "cell_type": "markdown",
      "source": [
        "## **Windows Function:**"
      ],
      "metadata": {
        "id": "ULcVt-X1pegs"
      }
    },
    {
      "cell_type": "markdown",
      "source": [
        "### Q1. Rank the customers based on the total amount they've spent on rentals\n",
        "\n",
        "**Answer (SQL Query):**\n",
        "```sql\n",
        "SELECT c.customer_id,\n",
        "       c.first_name,\n",
        "       c.last_name,\n",
        "       SUM(p.amount) AS total_spent,\n",
        "       RANK() OVER (ORDER BY SUM(p.amount) DESC) AS rank_customer\n",
        "FROM customer c\n",
        "JOIN payment p ON c.customer_id = p.customer_id\n",
        "GROUP BY c.customer_id, c.first_name, c.last_name;\n"
      ],
      "metadata": {
        "id": "6gNGJ0YgPtUU"
      }
    },
    {
      "cell_type": "markdown",
      "source": [
        "### Q2. Calculate the cumulative revenue generated by each film over time\n",
        "\n",
        "**Answer (SQL Query):**\n",
        "```sql\n",
        "SELECT f.film_id,\n",
        "       f.title,\n",
        "       p.payment_date,\n",
        "       SUM(p.amount) OVER (\n",
        "           PARTITION BY f.film_id\n",
        "           ORDER BY p.payment_date\n",
        "           ROWS BETWEEN UNBOUNDED PRECEDING AND CURRENT ROW\n",
        "       ) AS cumulative_revenue\n",
        "FROM film f\n",
        "JOIN inventory i ON f.film_id = i.film_id\n",
        "JOIN rental r ON i.inventory_id = r.inventory_id\n",
        "JOIN payment p ON r.rental_id = p.rental_id;\n"
      ],
      "metadata": {
        "id": "-4hTg7uaP3qD"
      }
    },
    {
      "cell_type": "markdown",
      "source": [
        "### Q3. Determine the average rental duration for each film, considering films with similar lengths\n",
        "\n",
        "**Answer (SQL Query):**\n",
        "```sql\n",
        "SELECT f.film_id,\n",
        "       f.title,\n",
        "       f.length,\n",
        "       f.rental_duration,\n",
        "       AVG(f.rental_duration) OVER (PARTITION BY f.length) AS avg_rental_duration_by_length\n",
        "FROM film f;\n"
      ],
      "metadata": {
        "id": "-fwV6ncTP-aV"
      }
    },
    {
      "cell_type": "markdown",
      "source": [
        "### Q4. Identify the top 3 films in each category based on their rental counts\n",
        "\n",
        "**Answer (SQL Query):**\n",
        "```sql\n",
        "SELECT c.name AS category_name,\n",
        "       f.title,\n",
        "       COUNT(r.rental_id) AS rental_count,\n",
        "       RANK() OVER (PARTITION BY c.category_id ORDER BY COUNT(r.rental_id) DESC) AS film_rank\n",
        "FROM rental r\n",
        "JOIN inventory i ON r.inventory_id = i.inventory_id\n",
        "JOIN film f ON i.film_id = f.film_id\n",
        "JOIN film_category fc ON f.film_id = fc.film_id\n",
        "JOIN category c ON fc.category_id = c.category_id\n",
        "GROUP BY c.category_id, c.name, f.title\n",
        "QUALIFY RANK() OVER (PARTITION BY c.category_id ORDER BY COUNT(r.rental_id) DESC) <= 3;\n"
      ],
      "metadata": {
        "id": "bFWnGH1FQFxB"
      }
    },
    {
      "cell_type": "markdown",
      "source": [
        "### Q5. Calculate the difference in rental counts between each customer's total rentals and the average rentals across all customers\n",
        "\n",
        "**Answer (SQL Query):**\n",
        "```sql\n",
        "SELECT c.customer_id,\n",
        "       c.first_name,\n",
        "       c.last_name,\n",
        "       COUNT(r.rental_id) AS total_rentals,\n",
        "       COUNT(r.rental_id) - AVG(COUNT(r.rental_id)) OVER () AS diff_from_avg\n",
        "FROM customer c\n",
        "JOIN rental r ON c.customer_id = r.customer_id\n",
        "GROUP BY c.customer_id, c.first_name, c.last_name;\n"
      ],
      "metadata": {
        "id": "dBN3QIJBQN_A"
      }
    },
    {
      "cell_type": "markdown",
      "source": [
        "### Q6. Find the monthly revenue trend for the entire rental store over time\n",
        "\n",
        "**Answer (SQL Query):**\n",
        "```sql\n",
        "SELECT DATE_FORMAT(payment_date, '%Y-%m') AS month,\n",
        "       SUM(amount) AS monthly_revenue,\n",
        "       SUM(SUM(amount)) OVER (ORDER BY DATE_FORMAT(payment_date, '%Y-%m')) AS cumulative_revenue\n",
        "FROM payment\n",
        "GROUP BY DATE_FORMAT(payment_date, '%Y-%m')\n",
        "ORDER BY month;\n"
      ],
      "metadata": {
        "id": "cuxLZo6QQWG4"
      }
    },
    {
      "cell_type": "markdown",
      "source": [
        "### Q7. Identify the customers whose total spending on rentals falls within the top 20% of all customers\n",
        "\n",
        "**Answer (SQL Query):**\n",
        "```sql\n",
        "WITH customer_spending AS (\n",
        "    SELECT c.customer_id,\n",
        "           c.first_name,\n",
        "           c.last_name,\n",
        "           SUM(p.amount) AS total_spent\n",
        "    FROM customer c\n",
        "    JOIN payment p ON c.customer_id = p.customer_id\n",
        "    GROUP BY c.customer_id, c.first_name, c.last_name\n",
        "),\n",
        "ranked_customers AS (\n",
        "    SELECT customer_id,\n",
        "           first_name,\n",
        "           last_name,\n",
        "           total_spent,\n",
        "           PERCENT_RANK() OVER (ORDER BY total_spent DESC) AS spending_percentile\n",
        "    FROM customer_spending\n",
        ")\n",
        "SELECT customer_id,\n",
        "       first_name,\n",
        "       last_name,\n",
        "       total_spent\n",
        "FROM ranked_customers\n",
        "WHERE spending_percentile <= 0.20\n",
        "ORDER BY total_spent DESC;\n"
      ],
      "metadata": {
        "id": "ZJatstk6QgQz"
      }
    },
    {
      "cell_type": "markdown",
      "source": [
        "### Q8. Calculate the running total of rentals per category, ordered by rental count\n",
        "\n",
        "**Answer (SQL Query):**\n",
        "```sql\n",
        "WITH category_rentals AS (\n",
        "    SELECT c.name AS category_name,\n",
        "           COUNT(r.rental_id) AS rental_count\n",
        "    FROM rental r\n",
        "    JOIN inventory i ON r.inventory_id = i.inventory_id\n",
        "    JOIN film f ON i.film_id = f.film_id\n",
        "    JOIN film_category fc ON f.film_id = fc.film_id\n",
        "    JOIN category c ON fc.category_id = c.category_id\n",
        "    GROUP BY c.name\n",
        ")\n",
        "SELECT category_name,\n",
        "       rental_count,\n",
        "       SUM(rental_count) OVER (ORDER BY rental_count DESC) AS running_total\n",
        "FROM category_rentals\n",
        "ORDER BY rental_count DESC;\n"
      ],
      "metadata": {
        "id": "DOoSDrBzQlYb"
      }
    },
    {
      "cell_type": "markdown",
      "source": [
        "### Q9. Find the films that have been rented less than the average rental count for their respective categories\n",
        "\n",
        "**Answer (SQL Query):**\n",
        "```sql\n",
        "WITH film_rentals AS (\n",
        "    SELECT f.film_id,\n",
        "           f.title,\n",
        "           c.name AS category_name,\n",
        "           COUNT(r.rental_id) AS rental_count\n",
        "    FROM rental r\n",
        "    JOIN inventory i ON r.inventory_id = i.inventory_id\n",
        "    JOIN film f ON i.film_id = f.film_id\n",
        "    JOIN film_category fc ON f.film_id = fc.film_id\n",
        "    JOIN category c ON fc.category_id = c.category_id\n",
        "    GROUP BY f.film_id, f.title, c.name\n",
        "),\n",
        "category_avg AS (\n",
        "    SELECT category_name,\n",
        "           AVG(rental_count) AS avg_rental_count\n",
        "    FROM film_rentals\n",
        "    GROUP BY category_name\n",
        ")\n",
        "SELECT fr.film_id,\n",
        "       fr.title,\n",
        "       fr.category_name,\n",
        "       fr.rental_count,\n",
        "       ca.avg_rental_count\n",
        "FROM film_rentals fr\n",
        "JOIN category_avg ca\n",
        "  ON fr.category_name = ca.category_name\n",
        "WHERE fr.rental_count < ca.avg_rental_count\n",
        "ORDER BY fr.category_name, fr.rental_count;\n"
      ],
      "metadata": {
        "id": "pKAhKuVoQxrg"
      }
    },
    {
      "cell_type": "markdown",
      "source": [
        "### Q10. Identify the top 5 months with the highest revenue and display the revenue generated in each month\n",
        "\n",
        "**Answer (SQL Query):**\n",
        "```sql\n",
        "SELECT strftime('%Y-%m', payment_date) AS month,\n",
        "       SUM(amount) AS total_revenue\n",
        "FROM payment\n",
        "GROUP BY strftime('%Y-%m', payment_date)\n",
        "ORDER BY total_revenue DESC\n",
        "LIMIT 5;\n"
      ],
      "metadata": {
        "id": "kXGTq04dQ3SK"
      }
    },
    {
      "cell_type": "markdown",
      "source": [
        "## **Normalisation & CTE**"
      ],
      "metadata": {
        "id": "sINm-wZIRDFi"
      }
    },
    {
      "cell_type": "markdown",
      "source": [
        "### Q1. First Normal Form (1NF):\n",
        "**a. Identify a table in the Sakila database that violates 1NF. Explain how you would normalize it to achieve 1NF.**\n",
        "\n",
        "**Answer:**\n",
        "\n",
        "- **Table that may violate 1NF:** `film_actor` or any hypothetical table where multiple values are stored in a single column.  \n",
        "  Example: Suppose we have a table `customer_rentals`:\n",
        "\n",
        "| customer_id | rental_ids      |\n",
        "|-------------|----------------|\n",
        "| 1           | 101, 102, 103  |\n",
        "| 2           | 104, 105       |\n",
        "\n",
        "- **Problem:** The `rental_ids` column contains multiple values in a single cell, violating 1NF.\n",
        "\n",
        "- **Normalization to achieve 1NF:** Split the multiple values into separate rows so that each column contains only atomic (single) values:\n",
        "\n",
        "| customer_id | rental_id |\n",
        "|-------------|-----------|\n",
        "| 1           | 101       |\n",
        "| 1           | 102       |\n",
        "| 1           | 103       |\n",
        "| 2           | 104       |\n",
        "| 2           | 105       |\n",
        "\n",
        "- **Result:** Each column now contains atomic values, eliminating repeating groups and satisfying 1NF.\n"
      ],
      "metadata": {
        "id": "nY9iryJQRYwr"
      }
    },
    {
      "cell_type": "markdown",
      "source": [
        "### Q2. Second Normal Form (2NF)\n",
        "**a. Choose a table in Sakila and describe how you would determine whether it is in 2NF. If it violates 2NF, explain the steps to normalize it.**\n",
        "\n",
        "**Answer:**\n",
        "\n",
        "- **Example Table:** `payment` (assuming a composite primary key of `customer_id` and `rental_id`).\n",
        "\n",
        "| customer_id | rental_id | amount | customer_name | rental_date |\n",
        "|-------------|-----------|--------|---------------|-------------|\n",
        "\n",
        "- **Check for 2NF:**\n",
        "  - A table is in 2NF if it is already in 1NF **and** all non-key columns are fully functionally dependent on the entire primary key.\n",
        "  - **Problem:** `customer_name` depends only on `customer_id`, not the combination of `customer_id` and `rental_id`.  \n",
        "    This violates 2NF because of partial dependency.\n",
        "\n",
        "- **Normalization to achieve 2NF:**\n",
        "  1. Separate the table into two tables:\n",
        "     - `payment` table: keeps columns fully dependent on the composite key (`customer_id`, `rental_id`, `amount`, `rental_date`).\n",
        "     - `customer` table: keeps `customer_id` and `customer_name`.\n",
        "     \n",
        "- **Result:**  \n",
        "  - `payment` table:\n",
        "\n",
        "| customer_id | rental_id | amount | rental_date |\n",
        "|-------------|-----------|--------|-------------|\n",
        "\n",
        "  - `customer` table:\n",
        "\n",
        "| customer_id | customer_name |\n",
        "|-------------|---------------|\n",
        "\n",
        "- **Benefit:** Eliminates partial dependencies and ensures 2NF.\n"
      ],
      "metadata": {
        "id": "-lev7ou7RflQ"
      }
    },
    {
      "cell_type": "markdown",
      "source": [
        "### Q3. Third Normal Form (3NF)\n",
        "**a. Identify a table in Sakila that violates 3NF. Describe the transitive dependencies present and outline the steps to normalize the table to 3NF.**\n",
        "\n",
        "**Answer:**\n",
        "\n",
        "- **Example Table:** `rental`  \n",
        "\n",
        "| rental_id | inventory_id | customer_id | store_id | store_address | rental_date |\n",
        "|-----------|-------------|-------------|---------|---------------|-------------|\n",
        "\n",
        "- **Check for 3NF:**\n",
        "  - A table is in 3NF if it is in 2NF **and** all non-key columns are **not transitively dependent** on the primary key.\n",
        "  - **Problem:** `store_address` depends on `store_id`, which depends on the primary key `rental_id`.  \n",
        "    This is a transitive dependency: `rental_id → store_id → store_address`.\n",
        "\n",
        "- **Normalization to achieve 3NF:**\n",
        "  1. Remove transitive dependencies by creating separate tables:\n",
        "     - `rental` table: keeps columns fully dependent on the primary key (`rental_id`, `inventory_id`, `customer_id`, `store_id`, `rental_date`).\n",
        "     - `store` table: keeps `store_id` and `store_address`.\n",
        "     \n",
        "- **Result:**  \n",
        "  - `rental` table:\n",
        "\n",
        "| rental_id | inventory_id | customer_id | store_id | rental_date |\n",
        "|-----------|-------------|-------------|---------|-------------|\n",
        "\n",
        "  - `store` table:\n",
        "\n",
        "| store_id | store_address |\n",
        "|----------|---------------|\n",
        "\n",
        "- **Benefit:** Eliminates transitive dependencies and ensures 3NF.\n"
      ],
      "metadata": {
        "id": "vFAojfAnRxgp"
      }
    },
    {
      "cell_type": "markdown",
      "source": [
        "### Q4. Normalization Process\n",
        "**a. Take a specific table in Sakila and guide through the process of normalizing it from the initial unnormalized form up to at least 2NF.**\n",
        "\n",
        "**Answer:**\n",
        "\n",
        "- **Example Table (Unnormalized Form - UNF):** `customer_rentals`  \n",
        "\n",
        "| customer_id | customer_name | rental1_movie | rental1_date | rental2_movie | rental2_date |\n",
        "|-------------|---------------|---------------|--------------|---------------|--------------|\n",
        "\n",
        "- **Step 1: Convert to First Normal Form (1NF)**  \n",
        "  - Eliminate repeating groups and ensure each column contains atomic values.\n",
        "  \n",
        "| customer_id | customer_name | movie_title | rental_date |\n",
        "|-------------|---------------|-------------|-------------|\n",
        "| 1           | Alice         | Movie A     | 2024-01-01  |\n",
        "| 1           | Alice         | Movie B     | 2024-01-03  |\n",
        "| 2           | Bob           | Movie C     | 2024-01-02  |\n",
        "\n",
        "- **Step 2: Convert to Second Normal Form (2NF)**  \n",
        "  - Ensure table is in 1NF and all non-key attributes are fully functionally dependent on the **entire primary key**.\n",
        "  - Here, primary key is a **composite key**: (`customer_id`, `movie_title`, `rental_date`).  \n",
        "  - Move partial dependencies (like `customer_name`) to a separate `customer` table.\n",
        "\n",
        "- **Resulting Tables in 2NF:**  \n",
        "\n",
        "1. `customer` table:\n",
        "\n",
        "| customer_id | customer_name |\n",
        "|-------------|---------------|\n",
        "| 1           | Alice         |\n",
        "| 2           | Bob           |\n",
        "\n",
        "2. `rental` table:\n",
        "\n",
        "| customer_id | movie_title | rental_date |\n",
        "|-------------|-------------|-------------|\n",
        "| 1           | Movie A     | 2024-01-01  |\n",
        "| 1           | Movie B     | 2024-01-03  |\n",
        "| 2           | Movie C     | 2024-01-02  |\n",
        "\n",
        "- **Benefit:**  \n",
        "  - Eliminates partial dependencies.\n",
        "  - Reduces redundancy and ensures data consistency.\n"
      ],
      "metadata": {
        "id": "54d2QnE8Rzcc"
      }
    },
    {
      "cell_type": "markdown",
      "source": [
        "### Q5. Write a query using a CTE to retrieve the distinct list of actor names and the number of films they have acted in from the actor and film_actor tables\n",
        "\n",
        "**Answer (SQL Query using CTE):**\n",
        "```sql\n",
        "WITH actor_film_count AS (\n",
        "    SELECT a.actor_id,\n",
        "           a.first_name,\n",
        "           a.last_name,\n",
        "           COUNT(fa.film_id) AS film_count\n",
        "    FROM actor a\n",
        "    JOIN film_actor fa ON a.actor_id = fa.actor_id\n",
        "    GROUP BY a.actor_id, a.first_name, a.last_name\n",
        ")\n",
        "SELECT first_name,\n",
        "       last_name,\n",
        "       film_count\n",
        "FROM actor_film_count\n",
        "ORDER BY film_count DESC;\n"
      ],
      "metadata": {
        "id": "QHDE8mQ2R6g7"
      }
    },
    {
      "cell_type": "markdown",
      "source": [
        "### Q6. Create a CTE that combines information from the film and language tables to display the film title, language name, and rental rate\n",
        "\n",
        "**Answer (SQL Query using CTE):**\n",
        "```sql\n",
        "WITH film_language_info AS (\n",
        "    SELECT f.film_id,\n",
        "           f.title,\n",
        "           l.name AS language_name,\n",
        "           f.rental_rate\n",
        "    FROM film f\n",
        "    JOIN language l ON f.language_id = l.language_id\n",
        ")\n",
        "SELECT title,\n",
        "       language_name,\n",
        "       rental_rate\n",
        "FROM film_language_info\n",
        "ORDER BY title;\n"
      ],
      "metadata": {
        "id": "-UcQto0XSAcS"
      }
    },
    {
      "cell_type": "markdown",
      "source": [
        "### Q7. Write a query using a CTE to find the total revenue generated by each customer (sum of payments) from the customer and payment tables\n",
        "\n",
        "**Answer (SQL Query using CTE):**\n",
        "```sql\n",
        "WITH customer_revenue AS (\n",
        "    SELECT c.customer_id,\n",
        "           c.first_name,\n",
        "           c.last_name,\n",
        "           SUM(p.amount) AS total_revenue\n",
        "    FROM customer c\n",
        "    JOIN payment p ON c.customer_id = p.customer_id\n",
        "    GROUP BY c.customer_id, c.first_name, c.last_name\n",
        ")\n",
        "SELECT customer_id,\n",
        "       first_name,\n",
        "       last_name,\n",
        "       total_revenue\n",
        "FROM customer_revenue\n",
        "ORDER BY total_revenue DESC;\n"
      ],
      "metadata": {
        "id": "NA01F-x2SOnL"
      }
    },
    {
      "cell_type": "markdown",
      "source": [
        "### Q8. Utilize a CTE with a window function to rank films based on their rental duration from the film table\n",
        "\n",
        "**Answer (SQL Query using CTE and Window Function):**\n",
        "```sql\n",
        "WITH film_ranking AS (\n",
        "    SELECT film_id,\n",
        "           title,\n",
        "           rental_duration,\n",
        "           RANK() OVER (ORDER BY rental_duration DESC) AS duration_rank\n",
        "    FROM film\n",
        ")\n",
        "SELECT film_id,\n",
        "       title,\n",
        "       rental_duration,\n",
        "       duration_rank\n",
        "FROM film_ranking\n",
        "ORDER BY duration_rank;\n"
      ],
      "metadata": {
        "id": "3MVgjg5vSSBP"
      }
    },
    {
      "cell_type": "markdown",
      "source": [
        "### Q9. Create a CTE to list customers who have made more than two rentals, and then join this CTE with the customer table to retrieve additional customer details\n",
        "\n",
        "**Answer (SQL Query using CTE and Join):**\n",
        "```sql\n",
        "WITH frequent_customers AS (\n",
        "    SELECT customer_id,\n",
        "           COUNT(rental_id) AS rental_count\n",
        "    FROM rental\n",
        "    GROUP BY customer_id\n",
        "    HAVING COUNT(rental_id) > 2\n",
        ")\n",
        "SELECT c.customer_id,\n",
        "       c.first_name,\n",
        "       c.last_name,\n",
        "       fc.rental_count\n",
        "FROM frequent_customers fc\n",
        "JOIN customer c ON fc.customer_id = c.customer_id;\n"
      ],
      "metadata": {
        "id": "XJDmjMu0S1XI"
      }
    },
    {
      "cell_type": "markdown",
      "source": [
        "### Q10. Write a query using a CTE to find the total number of rentals made each month, considering the rental_date from the rental table\n",
        "\n",
        "**Answer (SQL Query using CTE for Date Calculations):**\n",
        "```sql\n",
        "WITH monthly_rentals AS (\n",
        "    SELECT strftime('%Y-%m', rental_date) AS rental_month,\n",
        "           COUNT(rental_id) AS total_rentals\n",
        "    FROM rental\n",
        "    GROUP BY rental_month\n",
        ")\n",
        "SELECT rental_month,\n",
        "       total_rentals\n",
        "FROM monthly_rentals\n",
        "ORDER BY rental_month;\n"
      ],
      "metadata": {
        "id": "Z9qzmUTCS3-z"
      }
    },
    {
      "cell_type": "markdown",
      "source": [
        "### Q11. Create a CTE to generate a report showing pairs of actors who have appeared in the same film together, using the film_actor table\n",
        "\n",
        "**Answer (SQL Query using CTE and Self-Join):**\n",
        "```sql\n",
        "WITH actor_pairs AS (\n",
        "    SELECT fa1.film_id,\n",
        "           fa1.actor_id AS actor1_id,\n",
        "           fa2.actor_id AS actor2_id\n",
        "    FROM film_actor fa1\n",
        "    JOIN film_actor fa2\n",
        "      ON fa1.film_id = fa2.film_id\n",
        "     AND fa1.actor_id < fa2.actor_id\n",
        ")\n",
        "SELECT ap.film_id,\n",
        "       a1.first_name || ' ' || a1.last_name AS actor1,\n",
        "       a2.first_name || ' ' || a2.last_name AS actor2\n",
        "FROM actor_pairs ap\n",
        "JOIN actor a1 ON ap.actor1_id = a1.actor_id\n",
        "JOIN actor a2 ON ap.actor2_id = a2.actor_id\n",
        "ORDER BY ap.film_id;\n"
      ],
      "metadata": {
        "id": "A5tUzgTkS6zI"
      }
    },
    {
      "cell_type": "markdown",
      "source": [
        "### Q12. Implement a recursive CTE to find all employees in the staff table who report to a specific manager, considering the reports_to column\n",
        "\n",
        "**Answer (SQL Query using Recursive CTE):**\n",
        "```sql\n",
        "WITH RECURSIVE employee_hierarchy AS (\n",
        "    -- Anchor member: select the manager\n",
        "    SELECT staff_id,\n",
        "           first_name || ' ' || last_name AS employee_name,\n",
        "           reports_to\n",
        "    FROM staff\n",
        "    WHERE staff_id = 2  -- Replace with the manager's ID\n",
        "\n",
        "    UNION ALL\n",
        "\n",
        "    -- Recursive member: find employees reporting to the above\n",
        "    SELECT s.staff_id,\n",
        "           s.first_name || ' ' || s.last_name AS employee_name,\n",
        "           s.reports_to\n",
        "    FROM staff s\n",
        "    JOIN employee_hierarchy eh ON s.reports_to = eh.staff_id\n",
        ")\n",
        "SELECT *\n",
        "FROM employee_hierarchy;\n"
      ],
      "metadata": {
        "id": "QV0AsAF1TFQu"
      }
    }
  ]
}